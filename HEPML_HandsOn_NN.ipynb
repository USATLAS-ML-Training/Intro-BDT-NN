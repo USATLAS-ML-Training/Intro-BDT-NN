{
 "cells": [
  {
   "cell_type": "markdown",
   "metadata": {
    "id": "O3V3tNoJVYDF"
   },
   "source": [
    "# Hands on : introduction to NN on HEP dataset"
   ]
  },
  {
   "cell_type": "markdown",
   "metadata": {
    "id": "pfxlugZJVlR0"
   },
   "source": [
    "### Many thanks to David Rousseau, Yann Coadou, and Aishik Gosh. This tutorial is based on their work!"
   ]
  },
  {
   "cell_type": "markdown",
   "metadata": {
    "id": "eT7-MMpfrlHR"
   },
   "source": [
    "## Import Packages\n",
    "\n",
    "[This should look familiar!]"
   ]
  },
  {
   "cell_type": "code",
   "execution_count": 1,
   "metadata": {
    "id": "FO_W4IvbVYDL"
   },
   "outputs": [],
   "source": [
    "import os\n",
    "import numpy as np\n",
    "import pandas as pd\n",
    "import matplotlib.pyplot as plt\n",
    "import uproot as ur\n",
    "\n",
    "import tensorflow as tf\n",
    "os.environ['TF_CPP_MIN_LOG_LEVEL'] = '2'\n",
    "\n",
    "from IPython.display import display, HTML\n",
    "%matplotlib inline\n",
    "import time\n",
    "pd.set_option('display.max_columns', None) # to see all columns of df.head()\n",
    "np.random.seed(31415) # set the random seed for the reproducibility"
   ]
  },
  {
   "cell_type": "code",
   "execution_count": 2,
   "metadata": {},
   "outputs": [
    {
     "name": "stdout",
     "output_type": "stream",
     "text": [
      "2.4.1\n"
     ]
    }
   ],
   "source": [
    "print(tf.__version__)"
   ]
  },
  {
   "cell_type": "code",
   "execution_count": 3,
   "metadata": {},
   "outputs": [
    {
     "name": "stdout",
     "output_type": "stream",
     "text": [
      "Num GPUs Available:  0\n"
     ]
    }
   ],
   "source": [
    "print(\"Num GPUs Available: \", len(tf.config.list_physical_devices('GPU')))"
   ]
  },
  {
   "cell_type": "markdown",
   "metadata": {
    "id": "dHSzcuTgVYDT",
    "tags": []
   },
   "source": [
    "# Load events"
   ]
  },
  {
   "cell_type": "markdown",
   "metadata": {},
   "source": [
    "data was created from ATLAS Open Data see doc\n",
    "\n",
    "http://opendata.atlas.cern/release/2020/documentation/datasets/intro.html"
   ]
  },
  {
   "cell_type": "code",
   "execution_count": 4,
   "metadata": {
    "colab": {
     "base_uri": "https://localhost:8080/"
    },
    "id": "kl-4W4Ifs8EV",
    "outputId": "54d366bc-8925-4c6a-e867-ef70016e016b"
   },
   "outputs": [
    {
     "name": "stdout",
     "output_type": "stream",
     "text": [
      "{'tree_event;1': 'TTree'}\n"
     ]
    }
   ],
   "source": [
    "filename=(\"dataWW_d1.root\")\n",
    "file = ur.open(filename)\n",
    "print(file.classnames())\n",
    "#print(file.keys())\n"
   ]
  },
  {
   "cell_type": "code",
   "execution_count": 5,
   "metadata": {},
   "outputs": [
    {
     "name": "stdout",
     "output_type": "stream",
     "text": [
      "['index', 'eventNumber', 'label', 'met_et', 'met_phi', 'lep_n', 'lep_pt_0', 'lep_pt_1', 'lep_eta_0', 'lep_eta_1', 'lep_phi_0', 'lep_phi_1', 'lep_E_0', 'lep_E_1', 'lep_charge_0', 'lep_charge_1', 'lep_type_0', 'lep_type_1', 'jet_n', 'jet_pt_0', 'jet_pt_1', 'jet_eta_0', 'jet_eta_1', 'jet_phi_0', 'jet_phi_1', 'jet_E_0', 'jet_E_1', 'mcWeight', 'runNumber', 'channelNumber']\n"
     ]
    }
   ],
   "source": [
    "tree = file[\"tree_event\"]\n",
    "print(tree.keys())"
   ]
  },
  {
   "cell_type": "code",
   "execution_count": 6,
   "metadata": {},
   "outputs": [
    {
     "name": "stdout",
     "output_type": "stream",
     "text": [
      "<class 'uproot.models.TTree.Model_TTree_v20'>\n",
      "name                 | typename                 | interpretation                \n",
      "---------------------+--------------------------+-------------------------------\n",
      "index                | int64_t                  | AsDtype('>i8')\n",
      "eventNumber          | int64_t                  | AsDtype('>i8')\n",
      "label                | int64_t                  | AsDtype('>i8')\n",
      "met_et               | double                   | AsDtype('>f8')\n",
      "met_phi              | double                   | AsDtype('>f8')\n",
      "lep_n                | int64_t                  | AsDtype('>i8')\n",
      "lep_pt_0             | double                   | AsDtype('>f8')\n",
      "lep_pt_1             | double                   | AsDtype('>f8')\n",
      "lep_eta_0            | double                   | AsDtype('>f8')\n",
      "lep_eta_1            | double                   | AsDtype('>f8')\n",
      "lep_phi_0            | double                   | AsDtype('>f8')\n",
      "lep_phi_1            | double                   | AsDtype('>f8')\n",
      "lep_E_0              | double                   | AsDtype('>f8')\n",
      "lep_E_1              | double                   | AsDtype('>f8')\n",
      "lep_charge_0         | int64_t                  | AsDtype('>i8')\n",
      "lep_charge_1         | int64_t                  | AsDtype('>i8')\n",
      "lep_type_0           | int64_t                  | AsDtype('>i8')\n",
      "lep_type_1           | int64_t                  | AsDtype('>i8')\n",
      "jet_n                | int64_t                  | AsDtype('>i8')\n",
      "jet_pt_0             | double                   | AsDtype('>f8')\n",
      "jet_pt_1             | double                   | AsDtype('>f8')\n",
      "jet_eta_0            | double                   | AsDtype('>f8')\n",
      "jet_eta_1            | double                   | AsDtype('>f8')\n",
      "jet_phi_0            | double                   | AsDtype('>f8')\n",
      "jet_phi_1            | double                   | AsDtype('>f8')\n",
      "jet_E_0              | double                   | AsDtype('>f8')\n",
      "jet_E_1              | double                   | AsDtype('>f8')\n",
      "mcWeight             | double                   | AsDtype('>f8')\n",
      "runNumber            | int64_t                  | AsDtype('>i8')\n",
      "channelNumber        | int64_t                  | AsDtype('>i8')\n"
     ]
    }
   ],
   "source": [
    "print(type(tree))\n",
    "tree.show()\n",
    "dfall = tree.arrays(library=\"pd\")"
   ]
  },
  {
   "cell_type": "markdown",
   "metadata": {},
   "source": [
    "[uproot](https://indico.cern.ch/event/686641/contributions/2894906/attachments/1606247/2548596/pivarski-uproot.pdf)"
   ]
  },
  {
   "cell_type": "code",
   "execution_count": 7,
   "metadata": {},
   "outputs": [],
   "source": [
    "#csv_file = \"/global/cfs/cdirs/ntrain5/atlas-ml-training/dnn_bdt_tutorial/dataWW_d1.csv\"\n",
    "#dfall = pd.read_csv(csv_file)"
   ]
  },
  {
   "cell_type": "code",
   "execution_count": 8,
   "metadata": {},
   "outputs": [
    {
     "name": "stdout",
     "output_type": "stream",
     "text": [
      "File loaded with  600000  events \n"
     ]
    }
   ],
   "source": [
    "#shuffle the events [already done but just to be safe]\n",
    "dfall = dfall.sample(frac=1).reset_index(drop=True)\n",
    "print (\"File loaded with \",dfall.shape[0], \" events \")"
   ]
  },
  {
   "cell_type": "markdown",
   "metadata": {
    "id": "7xYM7O_zVYDY"
   },
   "source": [
    "#### At this point, you should see \"File Loaded with [XXX] events\". If not, the data file could not be accessed. No point going further!"
   ]
  },
  {
   "cell_type": "markdown",
   "metadata": {
    "id": "LFPm8OHuVYDY"
   },
   "source": [
    "# Examine Pandas Dataset"
   ]
  },
  {
   "cell_type": "code",
   "execution_count": 9,
   "metadata": {
    "colab": {
     "base_uri": "https://localhost:8080/"
    },
    "id": "xNeCAIuFVYDZ",
    "outputId": "b12cbd30-536e-429c-a1be-677ee0b937fb"
   },
   "outputs": [
    {
     "data": {
      "text/plain": [
       "Index(['index', 'eventNumber', 'label', 'met_et', 'met_phi', 'lep_n',\n",
       "       'lep_pt_0', 'lep_pt_1', 'lep_eta_0', 'lep_eta_1', 'lep_phi_0',\n",
       "       'lep_phi_1', 'lep_E_0', 'lep_E_1', 'lep_charge_0', 'lep_charge_1',\n",
       "       'lep_type_0', 'lep_type_1', 'jet_n', 'jet_pt_0', 'jet_pt_1',\n",
       "       'jet_eta_0', 'jet_eta_1', 'jet_phi_0', 'jet_phi_1', 'jet_E_0',\n",
       "       'jet_E_1', 'mcWeight', 'runNumber', 'channelNumber'],\n",
       "      dtype='object')"
      ]
     },
     "execution_count": 9,
     "metadata": {},
     "output_type": "execute_result"
    }
   ],
   "source": [
    "#dump list of feature\n",
    "dfall.columns"
   ]
  },
  {
   "cell_type": "code",
   "execution_count": 10,
   "metadata": {
    "colab": {
     "base_uri": "https://localhost:8080/",
     "height": 226
    },
    "id": "j9l7wkkorlHe",
    "outputId": "7d824317-2287-44b0-e153-112ecf7ddc13"
   },
   "outputs": [
    {
     "data": {
      "text/html": [
       "<div>\n",
       "<style scoped>\n",
       "    .dataframe tbody tr th:only-of-type {\n",
       "        vertical-align: middle;\n",
       "    }\n",
       "\n",
       "    .dataframe tbody tr th {\n",
       "        vertical-align: top;\n",
       "    }\n",
       "\n",
       "    .dataframe thead th {\n",
       "        text-align: right;\n",
       "    }\n",
       "</style>\n",
       "<table border=\"1\" class=\"dataframe\">\n",
       "  <thead>\n",
       "    <tr style=\"text-align: right;\">\n",
       "      <th></th>\n",
       "      <th>index</th>\n",
       "      <th>eventNumber</th>\n",
       "      <th>label</th>\n",
       "      <th>met_et</th>\n",
       "      <th>met_phi</th>\n",
       "      <th>lep_n</th>\n",
       "      <th>lep_pt_0</th>\n",
       "      <th>lep_pt_1</th>\n",
       "      <th>lep_eta_0</th>\n",
       "      <th>lep_eta_1</th>\n",
       "      <th>lep_phi_0</th>\n",
       "      <th>lep_phi_1</th>\n",
       "      <th>lep_E_0</th>\n",
       "      <th>lep_E_1</th>\n",
       "      <th>lep_charge_0</th>\n",
       "      <th>lep_charge_1</th>\n",
       "      <th>lep_type_0</th>\n",
       "      <th>lep_type_1</th>\n",
       "      <th>jet_n</th>\n",
       "      <th>jet_pt_0</th>\n",
       "      <th>jet_pt_1</th>\n",
       "      <th>jet_eta_0</th>\n",
       "      <th>jet_eta_1</th>\n",
       "      <th>jet_phi_0</th>\n",
       "      <th>jet_phi_1</th>\n",
       "      <th>jet_E_0</th>\n",
       "      <th>jet_E_1</th>\n",
       "      <th>mcWeight</th>\n",
       "      <th>runNumber</th>\n",
       "      <th>channelNumber</th>\n",
       "    </tr>\n",
       "  </thead>\n",
       "  <tbody>\n",
       "    <tr>\n",
       "      <th>0</th>\n",
       "      <td>543448</td>\n",
       "      <td>402756</td>\n",
       "      <td>1</td>\n",
       "      <td>25.609</td>\n",
       "      <td>0.42452</td>\n",
       "      <td>2</td>\n",
       "      <td>48.295</td>\n",
       "      <td>15.214</td>\n",
       "      <td>0.73991</td>\n",
       "      <td>2.27420</td>\n",
       "      <td>-2.316400</td>\n",
       "      <td>-1.39410</td>\n",
       "      <td>62129.0</td>\n",
       "      <td>74721.0</td>\n",
       "      <td>-1</td>\n",
       "      <td>1</td>\n",
       "      <td>13</td>\n",
       "      <td>11</td>\n",
       "      <td>2</td>\n",
       "      <td>26.32</td>\n",
       "      <td>20.064</td>\n",
       "      <td>-1.1350</td>\n",
       "      <td>-2.07540</td>\n",
       "      <td>-2.8092</td>\n",
       "      <td>2.0740</td>\n",
       "      <td>45397.0</td>\n",
       "      <td>81304.0</td>\n",
       "      <td>0.000002</td>\n",
       "      <td>284500</td>\n",
       "      <td>345323</td>\n",
       "    </tr>\n",
       "    <tr>\n",
       "      <th>1</th>\n",
       "      <td>580260</td>\n",
       "      <td>101274</td>\n",
       "      <td>0</td>\n",
       "      <td>196.560</td>\n",
       "      <td>1.31140</td>\n",
       "      <td>2</td>\n",
       "      <td>69.459</td>\n",
       "      <td>21.081</td>\n",
       "      <td>-0.52666</td>\n",
       "      <td>0.22380</td>\n",
       "      <td>0.023132</td>\n",
       "      <td>-0.67855</td>\n",
       "      <td>79317.0</td>\n",
       "      <td>21611.0</td>\n",
       "      <td>-1</td>\n",
       "      <td>1</td>\n",
       "      <td>13</td>\n",
       "      <td>13</td>\n",
       "      <td>2</td>\n",
       "      <td>192.12</td>\n",
       "      <td>36.217</td>\n",
       "      <td>-1.2643</td>\n",
       "      <td>-0.69746</td>\n",
       "      <td>-2.2147</td>\n",
       "      <td>-1.9152</td>\n",
       "      <td>367670.0</td>\n",
       "      <td>45733.0</td>\n",
       "      <td>0.000288</td>\n",
       "      <td>284500</td>\n",
       "      <td>363492</td>\n",
       "    </tr>\n",
       "    <tr>\n",
       "      <th>2</th>\n",
       "      <td>112856</td>\n",
       "      <td>468437</td>\n",
       "      <td>1</td>\n",
       "      <td>45.653</td>\n",
       "      <td>-2.76860</td>\n",
       "      <td>2</td>\n",
       "      <td>45.927</td>\n",
       "      <td>22.822</td>\n",
       "      <td>-1.61910</td>\n",
       "      <td>-2.00770</td>\n",
       "      <td>1.901700</td>\n",
       "      <td>-0.11248</td>\n",
       "      <td>120480.0</td>\n",
       "      <td>86498.0</td>\n",
       "      <td>-1</td>\n",
       "      <td>1</td>\n",
       "      <td>11</td>\n",
       "      <td>11</td>\n",
       "      <td>0</td>\n",
       "      <td>-7.00</td>\n",
       "      <td>-7.000</td>\n",
       "      <td>-7.0000</td>\n",
       "      <td>-7.00000</td>\n",
       "      <td>-7.0000</td>\n",
       "      <td>-7.0000</td>\n",
       "      <td>-7.0</td>\n",
       "      <td>-7.0</td>\n",
       "      <td>0.000029</td>\n",
       "      <td>284500</td>\n",
       "      <td>345324</td>\n",
       "    </tr>\n",
       "    <tr>\n",
       "      <th>3</th>\n",
       "      <td>121430</td>\n",
       "      <td>272337</td>\n",
       "      <td>1</td>\n",
       "      <td>49.415</td>\n",
       "      <td>-0.57805</td>\n",
       "      <td>2</td>\n",
       "      <td>45.929</td>\n",
       "      <td>14.263</td>\n",
       "      <td>1.55280</td>\n",
       "      <td>0.12809</td>\n",
       "      <td>2.254700</td>\n",
       "      <td>-2.54810</td>\n",
       "      <td>113360.0</td>\n",
       "      <td>14380.0</td>\n",
       "      <td>-1</td>\n",
       "      <td>1</td>\n",
       "      <td>13</td>\n",
       "      <td>13</td>\n",
       "      <td>0</td>\n",
       "      <td>-7.00</td>\n",
       "      <td>-7.000</td>\n",
       "      <td>-7.0000</td>\n",
       "      <td>-7.00000</td>\n",
       "      <td>-7.0000</td>\n",
       "      <td>-7.0000</td>\n",
       "      <td>-7.0</td>\n",
       "      <td>-7.0</td>\n",
       "      <td>0.000029</td>\n",
       "      <td>284500</td>\n",
       "      <td>345324</td>\n",
       "    </tr>\n",
       "    <tr>\n",
       "      <th>4</th>\n",
       "      <td>55912</td>\n",
       "      <td>354546</td>\n",
       "      <td>1</td>\n",
       "      <td>71.988</td>\n",
       "      <td>-2.60390</td>\n",
       "      <td>2</td>\n",
       "      <td>62.029</td>\n",
       "      <td>21.453</td>\n",
       "      <td>-0.51082</td>\n",
       "      <td>-0.38177</td>\n",
       "      <td>0.236200</td>\n",
       "      <td>1.40820</td>\n",
       "      <td>70300.0</td>\n",
       "      <td>23036.0</td>\n",
       "      <td>-1</td>\n",
       "      <td>1</td>\n",
       "      <td>11</td>\n",
       "      <td>13</td>\n",
       "      <td>0</td>\n",
       "      <td>-7.00</td>\n",
       "      <td>-7.000</td>\n",
       "      <td>-7.0000</td>\n",
       "      <td>-7.00000</td>\n",
       "      <td>-7.0000</td>\n",
       "      <td>-7.0000</td>\n",
       "      <td>-7.0</td>\n",
       "      <td>-7.0</td>\n",
       "      <td>0.000002</td>\n",
       "      <td>284500</td>\n",
       "      <td>345323</td>\n",
       "    </tr>\n",
       "  </tbody>\n",
       "</table>\n",
       "</div>"
      ],
      "text/plain": [
       "    index  eventNumber  label   met_et  met_phi  lep_n  lep_pt_0  lep_pt_1  \\\n",
       "0  543448       402756      1   25.609  0.42452      2    48.295    15.214   \n",
       "1  580260       101274      0  196.560  1.31140      2    69.459    21.081   \n",
       "2  112856       468437      1   45.653 -2.76860      2    45.927    22.822   \n",
       "3  121430       272337      1   49.415 -0.57805      2    45.929    14.263   \n",
       "4   55912       354546      1   71.988 -2.60390      2    62.029    21.453   \n",
       "\n",
       "   lep_eta_0  lep_eta_1  lep_phi_0  lep_phi_1   lep_E_0  lep_E_1  \\\n",
       "0    0.73991    2.27420  -2.316400   -1.39410   62129.0  74721.0   \n",
       "1   -0.52666    0.22380   0.023132   -0.67855   79317.0  21611.0   \n",
       "2   -1.61910   -2.00770   1.901700   -0.11248  120480.0  86498.0   \n",
       "3    1.55280    0.12809   2.254700   -2.54810  113360.0  14380.0   \n",
       "4   -0.51082   -0.38177   0.236200    1.40820   70300.0  23036.0   \n",
       "\n",
       "   lep_charge_0  lep_charge_1  lep_type_0  lep_type_1  jet_n  jet_pt_0  \\\n",
       "0            -1             1          13          11      2     26.32   \n",
       "1            -1             1          13          13      2    192.12   \n",
       "2            -1             1          11          11      0     -7.00   \n",
       "3            -1             1          13          13      0     -7.00   \n",
       "4            -1             1          11          13      0     -7.00   \n",
       "\n",
       "   jet_pt_1  jet_eta_0  jet_eta_1  jet_phi_0  jet_phi_1   jet_E_0  jet_E_1  \\\n",
       "0    20.064    -1.1350   -2.07540    -2.8092     2.0740   45397.0  81304.0   \n",
       "1    36.217    -1.2643   -0.69746    -2.2147    -1.9152  367670.0  45733.0   \n",
       "2    -7.000    -7.0000   -7.00000    -7.0000    -7.0000      -7.0     -7.0   \n",
       "3    -7.000    -7.0000   -7.00000    -7.0000    -7.0000      -7.0     -7.0   \n",
       "4    -7.000    -7.0000   -7.00000    -7.0000    -7.0000      -7.0     -7.0   \n",
       "\n",
       "   mcWeight  runNumber  channelNumber  \n",
       "0  0.000002     284500         345323  \n",
       "1  0.000288     284500         363492  \n",
       "2  0.000029     284500         345324  \n",
       "3  0.000029     284500         345324  \n",
       "4  0.000002     284500         345323  "
      ]
     },
     "execution_count": 10,
     "metadata": {},
     "output_type": "execute_result"
    }
   ],
   "source": [
    "#examine first few events\n",
    "dfall.head()"
   ]
  },
  {
   "cell_type": "code",
   "execution_count": 11,
   "metadata": {
    "colab": {
     "base_uri": "https://localhost:8080/",
     "height": 320
    },
    "id": "Oz-lWJhgrlHg",
    "outputId": "7ad3adfa-9819-47cb-c321-6d0d884c96cf"
   },
   "outputs": [
    {
     "data": {
      "text/html": [
       "<div>\n",
       "<style scoped>\n",
       "    .dataframe tbody tr th:only-of-type {\n",
       "        vertical-align: middle;\n",
       "    }\n",
       "\n",
       "    .dataframe tbody tr th {\n",
       "        vertical-align: top;\n",
       "    }\n",
       "\n",
       "    .dataframe thead th {\n",
       "        text-align: right;\n",
       "    }\n",
       "</style>\n",
       "<table border=\"1\" class=\"dataframe\">\n",
       "  <thead>\n",
       "    <tr style=\"text-align: right;\">\n",
       "      <th></th>\n",
       "      <th>index</th>\n",
       "      <th>eventNumber</th>\n",
       "      <th>label</th>\n",
       "      <th>met_et</th>\n",
       "      <th>met_phi</th>\n",
       "      <th>lep_n</th>\n",
       "      <th>lep_pt_0</th>\n",
       "      <th>lep_pt_1</th>\n",
       "      <th>lep_eta_0</th>\n",
       "      <th>lep_eta_1</th>\n",
       "      <th>lep_phi_0</th>\n",
       "      <th>lep_phi_1</th>\n",
       "      <th>lep_E_0</th>\n",
       "      <th>lep_E_1</th>\n",
       "      <th>lep_charge_0</th>\n",
       "      <th>lep_charge_1</th>\n",
       "      <th>lep_type_0</th>\n",
       "      <th>lep_type_1</th>\n",
       "      <th>jet_n</th>\n",
       "      <th>jet_pt_0</th>\n",
       "      <th>jet_pt_1</th>\n",
       "      <th>jet_eta_0</th>\n",
       "      <th>jet_eta_1</th>\n",
       "      <th>jet_phi_0</th>\n",
       "      <th>jet_phi_1</th>\n",
       "      <th>jet_E_0</th>\n",
       "      <th>jet_E_1</th>\n",
       "      <th>mcWeight</th>\n",
       "      <th>runNumber</th>\n",
       "      <th>channelNumber</th>\n",
       "    </tr>\n",
       "  </thead>\n",
       "  <tbody>\n",
       "    <tr>\n",
       "      <th>count</th>\n",
       "      <td>600000.000000</td>\n",
       "      <td>6.000000e+05</td>\n",
       "      <td>600000.000000</td>\n",
       "      <td>600000.000000</td>\n",
       "      <td>600000.000000</td>\n",
       "      <td>600000.000000</td>\n",
       "      <td>600000.000000</td>\n",
       "      <td>600000.000000</td>\n",
       "      <td>600000.000000</td>\n",
       "      <td>600000.000000</td>\n",
       "      <td>600000.000000</td>\n",
       "      <td>600000.000000</td>\n",
       "      <td>6.000000e+05</td>\n",
       "      <td>6.000000e+05</td>\n",
       "      <td>600000.000000</td>\n",
       "      <td>600000.000000</td>\n",
       "      <td>600000.000000</td>\n",
       "      <td>600000.000000</td>\n",
       "      <td>600000.000000</td>\n",
       "      <td>600000.000000</td>\n",
       "      <td>600000.000000</td>\n",
       "      <td>600000.000000</td>\n",
       "      <td>600000.000000</td>\n",
       "      <td>600000.000000</td>\n",
       "      <td>600000.000000</td>\n",
       "      <td>6.000000e+05</td>\n",
       "      <td>6.000000e+05</td>\n",
       "      <td>600000.000000</td>\n",
       "      <td>600000.0</td>\n",
       "      <td>600000.000000</td>\n",
       "    </tr>\n",
       "    <tr>\n",
       "      <th>mean</th>\n",
       "      <td>299999.500000</td>\n",
       "      <td>7.029775e+05</td>\n",
       "      <td>0.666667</td>\n",
       "      <td>60.365356</td>\n",
       "      <td>-0.008556</td>\n",
       "      <td>2.005748</td>\n",
       "      <td>60.270328</td>\n",
       "      <td>28.133970</td>\n",
       "      <td>0.000269</td>\n",
       "      <td>-0.000664</td>\n",
       "      <td>0.005219</td>\n",
       "      <td>0.008524</td>\n",
       "      <td>1.164008e+05</td>\n",
       "      <td>5.630948e+04</td>\n",
       "      <td>-0.027027</td>\n",
       "      <td>0.027037</td>\n",
       "      <td>11.907273</td>\n",
       "      <td>11.958010</td>\n",
       "      <td>1.334185</td>\n",
       "      <td>59.606114</td>\n",
       "      <td>13.521164</td>\n",
       "      <td>-1.934521</td>\n",
       "      <td>-4.402337</td>\n",
       "      <td>-1.939645</td>\n",
       "      <td>-4.401941</td>\n",
       "      <td>1.375410e+05</td>\n",
       "      <td>4.125468e+04</td>\n",
       "      <td>0.000218</td>\n",
       "      <td>284500.0</td>\n",
       "      <td>351379.666667</td>\n",
       "    </tr>\n",
       "    <tr>\n",
       "      <th>std</th>\n",
       "      <td>173205.225094</td>\n",
       "      <td>4.568961e+05</td>\n",
       "      <td>0.471405</td>\n",
       "      <td>48.153210</td>\n",
       "      <td>1.812778</td>\n",
       "      <td>0.076061</td>\n",
       "      <td>42.676858</td>\n",
       "      <td>20.352272</td>\n",
       "      <td>1.210614</td>\n",
       "      <td>1.235890</td>\n",
       "      <td>1.811177</td>\n",
       "      <td>1.814205</td>\n",
       "      <td>1.083341e+05</td>\n",
       "      <td>5.748834e+04</td>\n",
       "      <td>0.999636</td>\n",
       "      <td>0.999635</td>\n",
       "      <td>0.995692</td>\n",
       "      <td>0.999119</td>\n",
       "      <td>1.232632</td>\n",
       "      <td>79.586143</td>\n",
       "      <td>38.074439</td>\n",
       "      <td>3.349404</td>\n",
       "      <td>3.491304</td>\n",
       "      <td>3.489197</td>\n",
       "      <td>3.559421</td>\n",
       "      <td>1.980717e+05</td>\n",
       "      <td>8.990068e+04</td>\n",
       "      <td>0.000736</td>\n",
       "      <td>0.0</td>\n",
       "      <td>8564.720183</td>\n",
       "    </tr>\n",
       "    <tr>\n",
       "      <th>min</th>\n",
       "      <td>0.000000</td>\n",
       "      <td>1.000000e+00</td>\n",
       "      <td>0.000000</td>\n",
       "      <td>0.044211</td>\n",
       "      <td>-3.141600</td>\n",
       "      <td>2.000000</td>\n",
       "      <td>25.000000</td>\n",
       "      <td>7.000300</td>\n",
       "      <td>-2.700000</td>\n",
       "      <td>-2.699900</td>\n",
       "      <td>-3.141600</td>\n",
       "      <td>-3.141600</td>\n",
       "      <td>2.501300e+04</td>\n",
       "      <td>7.003800e+03</td>\n",
       "      <td>-1.000000</td>\n",
       "      <td>-1.000000</td>\n",
       "      <td>11.000000</td>\n",
       "      <td>11.000000</td>\n",
       "      <td>0.000000</td>\n",
       "      <td>-7.000000</td>\n",
       "      <td>-7.000000</td>\n",
       "      <td>-7.000000</td>\n",
       "      <td>-7.000000</td>\n",
       "      <td>-7.000000</td>\n",
       "      <td>-7.000000</td>\n",
       "      <td>-7.000000e+00</td>\n",
       "      <td>-7.000000e+00</td>\n",
       "      <td>-0.045557</td>\n",
       "      <td>284500.0</td>\n",
       "      <td>345323.000000</td>\n",
       "    </tr>\n",
       "    <tr>\n",
       "      <th>25%</th>\n",
       "      <td>149999.750000</td>\n",
       "      <td>3.498568e+05</td>\n",
       "      <td>0.000000</td>\n",
       "      <td>33.196000</td>\n",
       "      <td>-1.577600</td>\n",
       "      <td>2.000000</td>\n",
       "      <td>36.624750</td>\n",
       "      <td>15.316000</td>\n",
       "      <td>-0.899650</td>\n",
       "      <td>-0.946043</td>\n",
       "      <td>-1.560200</td>\n",
       "      <td>-1.562900</td>\n",
       "      <td>5.221675e+04</td>\n",
       "      <td>2.329100e+04</td>\n",
       "      <td>-1.000000</td>\n",
       "      <td>-1.000000</td>\n",
       "      <td>11.000000</td>\n",
       "      <td>11.000000</td>\n",
       "      <td>0.000000</td>\n",
       "      <td>-7.000000</td>\n",
       "      <td>-7.000000</td>\n",
       "      <td>-7.000000</td>\n",
       "      <td>-7.000000</td>\n",
       "      <td>-7.000000</td>\n",
       "      <td>-7.000000</td>\n",
       "      <td>-7.000000e+00</td>\n",
       "      <td>-7.000000e+00</td>\n",
       "      <td>0.000002</td>\n",
       "      <td>284500.0</td>\n",
       "      <td>345323.000000</td>\n",
       "    </tr>\n",
       "    <tr>\n",
       "      <th>50%</th>\n",
       "      <td>299999.500000</td>\n",
       "      <td>6.678815e+05</td>\n",
       "      <td>1.000000</td>\n",
       "      <td>50.082000</td>\n",
       "      <td>-0.018694</td>\n",
       "      <td>2.000000</td>\n",
       "      <td>48.229500</td>\n",
       "      <td>23.644000</td>\n",
       "      <td>0.003413</td>\n",
       "      <td>0.002974</td>\n",
       "      <td>0.014583</td>\n",
       "      <td>0.018823</td>\n",
       "      <td>8.184450e+04</td>\n",
       "      <td>3.824900e+04</td>\n",
       "      <td>-1.000000</td>\n",
       "      <td>1.000000</td>\n",
       "      <td>11.000000</td>\n",
       "      <td>11.000000</td>\n",
       "      <td>1.000000</td>\n",
       "      <td>38.744000</td>\n",
       "      <td>-7.000000</td>\n",
       "      <td>-0.891010</td>\n",
       "      <td>-7.000000</td>\n",
       "      <td>-1.210600</td>\n",
       "      <td>-7.000000</td>\n",
       "      <td>7.501700e+04</td>\n",
       "      <td>-7.000000e+00</td>\n",
       "      <td>0.000029</td>\n",
       "      <td>284500.0</td>\n",
       "      <td>345324.000000</td>\n",
       "    </tr>\n",
       "    <tr>\n",
       "      <th>75%</th>\n",
       "      <td>449999.250000</td>\n",
       "      <td>1.001273e+06</td>\n",
       "      <td>1.000000</td>\n",
       "      <td>73.032250</td>\n",
       "      <td>1.559300</td>\n",
       "      <td>2.000000</td>\n",
       "      <td>68.979000</td>\n",
       "      <td>34.149000</td>\n",
       "      <td>0.901950</td>\n",
       "      <td>0.942210</td>\n",
       "      <td>1.573000</td>\n",
       "      <td>1.577300</td>\n",
       "      <td>1.412400e+05</td>\n",
       "      <td>6.730825e+04</td>\n",
       "      <td>1.000000</td>\n",
       "      <td>1.000000</td>\n",
       "      <td>13.000000</td>\n",
       "      <td>13.000000</td>\n",
       "      <td>2.000000</td>\n",
       "      <td>84.291250</td>\n",
       "      <td>26.881000</td>\n",
       "      <td>0.724705</td>\n",
       "      <td>-0.821005</td>\n",
       "      <td>0.967753</td>\n",
       "      <td>-1.088575</td>\n",
       "      <td>1.766200e+05</td>\n",
       "      <td>5.060500e+04</td>\n",
       "      <td>0.000197</td>\n",
       "      <td>284500.0</td>\n",
       "      <td>363492.000000</td>\n",
       "    </tr>\n",
       "    <tr>\n",
       "      <th>max</th>\n",
       "      <td>599999.000000</td>\n",
       "      <td>1.997995e+06</td>\n",
       "      <td>1.000000</td>\n",
       "      <td>7062.200000</td>\n",
       "      <td>3.141600</td>\n",
       "      <td>5.000000</td>\n",
       "      <td>7041.400000</td>\n",
       "      <td>744.900000</td>\n",
       "      <td>2.699800</td>\n",
       "      <td>2.700000</td>\n",
       "      <td>3.141500</td>\n",
       "      <td>3.141600</td>\n",
       "      <td>7.041600e+06</td>\n",
       "      <td>2.107900e+06</td>\n",
       "      <td>1.000000</td>\n",
       "      <td>1.000000</td>\n",
       "      <td>13.000000</td>\n",
       "      <td>13.000000</td>\n",
       "      <td>13.000000</td>\n",
       "      <td>1658.200000</td>\n",
       "      <td>1429.800000</td>\n",
       "      <td>2.500000</td>\n",
       "      <td>2.500000</td>\n",
       "      <td>3.141600</td>\n",
       "      <td>3.141600</td>\n",
       "      <td>5.638800e+06</td>\n",
       "      <td>2.784300e+06</td>\n",
       "      <td>0.052420</td>\n",
       "      <td>284500.0</td>\n",
       "      <td>363492.000000</td>\n",
       "    </tr>\n",
       "  </tbody>\n",
       "</table>\n",
       "</div>"
      ],
      "text/plain": [
       "               index   eventNumber          label         met_et  \\\n",
       "count  600000.000000  6.000000e+05  600000.000000  600000.000000   \n",
       "mean   299999.500000  7.029775e+05       0.666667      60.365356   \n",
       "std    173205.225094  4.568961e+05       0.471405      48.153210   \n",
       "min         0.000000  1.000000e+00       0.000000       0.044211   \n",
       "25%    149999.750000  3.498568e+05       0.000000      33.196000   \n",
       "50%    299999.500000  6.678815e+05       1.000000      50.082000   \n",
       "75%    449999.250000  1.001273e+06       1.000000      73.032250   \n",
       "max    599999.000000  1.997995e+06       1.000000    7062.200000   \n",
       "\n",
       "             met_phi          lep_n       lep_pt_0       lep_pt_1  \\\n",
       "count  600000.000000  600000.000000  600000.000000  600000.000000   \n",
       "mean       -0.008556       2.005748      60.270328      28.133970   \n",
       "std         1.812778       0.076061      42.676858      20.352272   \n",
       "min        -3.141600       2.000000      25.000000       7.000300   \n",
       "25%        -1.577600       2.000000      36.624750      15.316000   \n",
       "50%        -0.018694       2.000000      48.229500      23.644000   \n",
       "75%         1.559300       2.000000      68.979000      34.149000   \n",
       "max         3.141600       5.000000    7041.400000     744.900000   \n",
       "\n",
       "           lep_eta_0      lep_eta_1      lep_phi_0      lep_phi_1  \\\n",
       "count  600000.000000  600000.000000  600000.000000  600000.000000   \n",
       "mean        0.000269      -0.000664       0.005219       0.008524   \n",
       "std         1.210614       1.235890       1.811177       1.814205   \n",
       "min        -2.700000      -2.699900      -3.141600      -3.141600   \n",
       "25%        -0.899650      -0.946043      -1.560200      -1.562900   \n",
       "50%         0.003413       0.002974       0.014583       0.018823   \n",
       "75%         0.901950       0.942210       1.573000       1.577300   \n",
       "max         2.699800       2.700000       3.141500       3.141600   \n",
       "\n",
       "            lep_E_0       lep_E_1   lep_charge_0   lep_charge_1  \\\n",
       "count  6.000000e+05  6.000000e+05  600000.000000  600000.000000   \n",
       "mean   1.164008e+05  5.630948e+04      -0.027027       0.027037   \n",
       "std    1.083341e+05  5.748834e+04       0.999636       0.999635   \n",
       "min    2.501300e+04  7.003800e+03      -1.000000      -1.000000   \n",
       "25%    5.221675e+04  2.329100e+04      -1.000000      -1.000000   \n",
       "50%    8.184450e+04  3.824900e+04      -1.000000       1.000000   \n",
       "75%    1.412400e+05  6.730825e+04       1.000000       1.000000   \n",
       "max    7.041600e+06  2.107900e+06       1.000000       1.000000   \n",
       "\n",
       "          lep_type_0     lep_type_1          jet_n       jet_pt_0  \\\n",
       "count  600000.000000  600000.000000  600000.000000  600000.000000   \n",
       "mean       11.907273      11.958010       1.334185      59.606114   \n",
       "std         0.995692       0.999119       1.232632      79.586143   \n",
       "min        11.000000      11.000000       0.000000      -7.000000   \n",
       "25%        11.000000      11.000000       0.000000      -7.000000   \n",
       "50%        11.000000      11.000000       1.000000      38.744000   \n",
       "75%        13.000000      13.000000       2.000000      84.291250   \n",
       "max        13.000000      13.000000      13.000000    1658.200000   \n",
       "\n",
       "            jet_pt_1      jet_eta_0      jet_eta_1      jet_phi_0  \\\n",
       "count  600000.000000  600000.000000  600000.000000  600000.000000   \n",
       "mean       13.521164      -1.934521      -4.402337      -1.939645   \n",
       "std        38.074439       3.349404       3.491304       3.489197   \n",
       "min        -7.000000      -7.000000      -7.000000      -7.000000   \n",
       "25%        -7.000000      -7.000000      -7.000000      -7.000000   \n",
       "50%        -7.000000      -0.891010      -7.000000      -1.210600   \n",
       "75%        26.881000       0.724705      -0.821005       0.967753   \n",
       "max      1429.800000       2.500000       2.500000       3.141600   \n",
       "\n",
       "           jet_phi_1       jet_E_0       jet_E_1       mcWeight  runNumber  \\\n",
       "count  600000.000000  6.000000e+05  6.000000e+05  600000.000000   600000.0   \n",
       "mean       -4.401941  1.375410e+05  4.125468e+04       0.000218   284500.0   \n",
       "std         3.559421  1.980717e+05  8.990068e+04       0.000736        0.0   \n",
       "min        -7.000000 -7.000000e+00 -7.000000e+00      -0.045557   284500.0   \n",
       "25%        -7.000000 -7.000000e+00 -7.000000e+00       0.000002   284500.0   \n",
       "50%        -7.000000  7.501700e+04 -7.000000e+00       0.000029   284500.0   \n",
       "75%        -1.088575  1.766200e+05  5.060500e+04       0.000197   284500.0   \n",
       "max         3.141600  5.638800e+06  2.784300e+06       0.052420   284500.0   \n",
       "\n",
       "       channelNumber  \n",
       "count  600000.000000  \n",
       "mean   351379.666667  \n",
       "std      8564.720183  \n",
       "min    345323.000000  \n",
       "25%    345323.000000  \n",
       "50%    345324.000000  \n",
       "75%    363492.000000  \n",
       "max    363492.000000  "
      ]
     },
     "execution_count": 11,
     "metadata": {},
     "output_type": "execute_result"
    }
   ],
   "source": [
    "#take a look at feature distribution\n",
    "dfall.describe()\n",
    "#dfall.head(5)"
   ]
  },
  {
   "cell_type": "code",
   "execution_count": 12,
   "metadata": {
    "colab": {
     "base_uri": "https://localhost:8080/"
    },
    "id": "lQsalTmorlHj",
    "outputId": "58b3c0c9-93c6-4757-cf69-66278940e60f"
   },
   "outputs": [
    {
     "name": "stdout",
     "output_type": "stream",
     "text": [
      "total label weights (124.6622944642, 6.2000533976)\n",
      "total class number of events (200000, 400000)\n"
     ]
    }
   ],
   "source": [
    "label_weights = (dfall[dfall.label==0].mcWeight.sum(), dfall[dfall.label==1].mcWeight.sum() ) \n",
    "print(\"total label weights\",label_weights)\n",
    "\n",
    "label_nevents = (dfall[dfall.label==0].shape[0], dfall[dfall.label==1].shape[0] )\n",
    "print (\"total class number of events\",label_nevents)"
   ]
  },
  {
   "cell_type": "markdown",
   "metadata": {
    "id": "rtI5u5GErlHq"
   },
   "source": [
    "## Event Selection"
   ]
  },
  {
   "cell_type": "markdown",
   "metadata": {},
   "source": [
    "This notebook essentially tries to classify events containing a Higgs Boson.\n",
    "\n",
    "The simulation includes top-quark-pair production, single-top production, production of weak bosons in association with jets (W+jets, Z+jets), production of a pair of bosons (diboson WW, WZ, ZZ) and __SM Higgs__ production.\n",
    "\n",
    "We will only keep events with exactly two leptons dfall.lep_n==2"
   ]
  },
  {
   "cell_type": "code",
   "execution_count": 13,
   "metadata": {
    "colab": {
     "base_uri": "https://localhost:8080/"
    },
    "id": "kaO2JM1hrlHr",
    "outputId": "bc59e98d-f6f1-42b7-e9f3-48052fe4ebc9"
   },
   "outputs": [
    {
     "name": "stdout",
     "output_type": "stream",
     "text": [
      "(600000, 30)\n",
      "(577357, 30)\n"
     ]
    }
   ],
   "source": [
    "print (dfall.shape)\n",
    "\n",
    "# Also only keep events with positive weight. This is in principle wrong. \n",
    "#Many Data Science tools break given a negative weight.\n",
    "\n",
    "fulldata=dfall[(dfall.lep_n==2) & (dfall.mcWeight>0 )] # only keep events with exactly two leptons \n",
    "print (fulldata.shape)"
   ]
  },
  {
   "cell_type": "code",
   "execution_count": 14,
   "metadata": {
    "colab": {
     "base_uri": "https://localhost:8080/"
    },
    "id": "iMQpKhDKrlH0",
    "outputId": "ccb36177-999c-4203-939e-4e04383c1954"
   },
   "outputs": [
    {
     "data": {
      "text/plain": [
       "(577357, 28)"
      ]
     },
     "execution_count": 14,
     "metadata": {},
     "output_type": "execute_result"
    }
   ],
   "source": [
    "#hide label and weights in separate vectors\n",
    "#they are not real features\n",
    "\n",
    "#WARNING : there should be no selection nor shuffling later on !\n",
    "target = fulldata[\"label\"]\n",
    "del fulldata[\"label\"]\n",
    "\n",
    "#hide weight in separate vector\n",
    "weights = fulldata[\"mcWeight\"]\n",
    "del fulldata[\"mcWeight\"]\n",
    "fulldata.shape"
   ]
  },
  {
   "cell_type": "markdown",
   "metadata": {},
   "source": [
    "___"
   ]
  },
  {
   "cell_type": "markdown",
   "metadata": {
    "id": "nviyIMgerlH3"
   },
   "source": [
    "\n",
    "# Try not to change the cells above $\\uparrow$\n",
    "...and return to this cell (or rerun the whole notebook) after changing things below."
   ]
  },
  {
   "cell_type": "markdown",
   "metadata": {},
   "source": [
    "___"
   ]
  },
  {
   "cell_type": "markdown",
   "metadata": {},
   "source": [
    "### For simplicity, we'll only use some features on the first pass"
   ]
  },
  {
   "cell_type": "code",
   "execution_count": 15,
   "metadata": {
    "colab": {
     "base_uri": "https://localhost:8080/",
     "height": 225
    },
    "id": "6e0Hlpv6rlH4",
    "outputId": "8705b9a0-9dcc-4eb6-ab49-b3fd0b8ea1a6",
    "scrolled": true
   },
   "outputs": [
    {
     "name": "stdout",
     "output_type": "stream",
     "text": [
      "(577357, 6)\n"
     ]
    },
    {
     "data": {
      "text/html": [
       "<div>\n",
       "<style scoped>\n",
       "    .dataframe tbody tr th:only-of-type {\n",
       "        vertical-align: middle;\n",
       "    }\n",
       "\n",
       "    .dataframe tbody tr th {\n",
       "        vertical-align: top;\n",
       "    }\n",
       "\n",
       "    .dataframe thead th {\n",
       "        text-align: right;\n",
       "    }\n",
       "</style>\n",
       "<table border=\"1\" class=\"dataframe\">\n",
       "  <thead>\n",
       "    <tr style=\"text-align: right;\">\n",
       "      <th></th>\n",
       "      <th>met_et</th>\n",
       "      <th>met_phi</th>\n",
       "      <th>lep_pt_0</th>\n",
       "      <th>lep_pt_1</th>\n",
       "      <th>lep_phi_0</th>\n",
       "      <th>lep_phi_1</th>\n",
       "    </tr>\n",
       "  </thead>\n",
       "  <tbody>\n",
       "    <tr>\n",
       "      <th>0</th>\n",
       "      <td>25.609</td>\n",
       "      <td>0.42452</td>\n",
       "      <td>48.295</td>\n",
       "      <td>15.214</td>\n",
       "      <td>-2.316400</td>\n",
       "      <td>-1.39410</td>\n",
       "    </tr>\n",
       "    <tr>\n",
       "      <th>1</th>\n",
       "      <td>196.560</td>\n",
       "      <td>1.31140</td>\n",
       "      <td>69.459</td>\n",
       "      <td>21.081</td>\n",
       "      <td>0.023132</td>\n",
       "      <td>-0.67855</td>\n",
       "    </tr>\n",
       "    <tr>\n",
       "      <th>2</th>\n",
       "      <td>45.653</td>\n",
       "      <td>-2.76860</td>\n",
       "      <td>45.927</td>\n",
       "      <td>22.822</td>\n",
       "      <td>1.901700</td>\n",
       "      <td>-0.11248</td>\n",
       "    </tr>\n",
       "    <tr>\n",
       "      <th>3</th>\n",
       "      <td>49.415</td>\n",
       "      <td>-0.57805</td>\n",
       "      <td>45.929</td>\n",
       "      <td>14.263</td>\n",
       "      <td>2.254700</td>\n",
       "      <td>-2.54810</td>\n",
       "    </tr>\n",
       "    <tr>\n",
       "      <th>4</th>\n",
       "      <td>71.988</td>\n",
       "      <td>-2.60390</td>\n",
       "      <td>62.029</td>\n",
       "      <td>21.453</td>\n",
       "      <td>0.236200</td>\n",
       "      <td>1.40820</td>\n",
       "    </tr>\n",
       "  </tbody>\n",
       "</table>\n",
       "</div>"
      ],
      "text/plain": [
       "    met_et  met_phi  lep_pt_0  lep_pt_1  lep_phi_0  lep_phi_1\n",
       "0   25.609  0.42452    48.295    15.214  -2.316400   -1.39410\n",
       "1  196.560  1.31140    69.459    21.081   0.023132   -0.67855\n",
       "2   45.653 -2.76860    45.927    22.822   1.901700   -0.11248\n",
       "3   49.415 -0.57805    45.929    14.263   2.254700   -2.54810\n",
       "4   71.988 -2.60390    62.029    21.453   0.236200    1.40820"
      ]
     },
     "execution_count": 15,
     "metadata": {},
     "output_type": "execute_result"
    }
   ],
   "source": [
    "data=pd.DataFrame(fulldata, columns=[\"met_et\",\"met_phi\",\"lep_pt_0\",\"lep_pt_1\",'lep_phi_0', 'lep_phi_1'])\n",
    "print (data.shape)\n",
    "data.head()"
   ]
  },
  {
   "cell_type": "markdown",
   "metadata": {
    "id": "Krg3pTRjVYDs",
    "tags": []
   },
   "source": [
    "### Feature engineering (Two variations)"
   ]
  },
  {
   "cell_type": "markdown",
   "metadata": {},
   "source": [
    "1. See if using more features improves model performance"
   ]
  },
  {
   "cell_type": "code",
   "execution_count": 16,
   "metadata": {},
   "outputs": [],
   "source": [
    "more_features = False\n",
    "if (more_features):\n",
    "    data=pd.DataFrame(fulldata, columns=[\"met_et\",\"met_phi\",\"lep_pt_0\",\"lep_pt_1\",'lep_eta_0', 'lep_eta_1', 'lep_phi_0', 'lep_phi_1','jet_n','jet_pt_0',\n",
    "       'jet_pt_1', 'jet_eta_0', 'jet_eta_1', 'jet_phi_0', 'jet_phi_1'])"
   ]
  },
  {
   "cell_type": "markdown",
   "metadata": {},
   "source": [
    "2. Engineer our own feature, $\\Delta\\varphi_l$"
   ]
  },
  {
   "cell_type": "code",
   "execution_count": 17,
   "metadata": {
    "id": "DH5UqBF9VYDt"
   },
   "outputs": [],
   "source": [
    "use_deltaphi = False\n",
    "if use_deltaphi: \n",
    "    data[\"lep_deltaphi\"]=np.abs(np.mod(data.lep_phi_1-data.lep_phi_0+3*np.pi,2*np.pi)-np.pi)\n",
    "\n",
    "    print (data.shape)\n",
    "    display(data.head())"
   ]
  },
  {
   "cell_type": "code",
   "execution_count": 18,
   "metadata": {
    "colab": {
     "base_uri": "https://localhost:8080/",
     "height": 734
    },
    "id": "o2mf1bLVrlH7",
    "outputId": "b4484ca0-0983-4477-9af7-26bf496aa618"
   },
   "outputs": [
    {
     "data": {
      "text/plain": [
       "<Figure size 432x288 with 0 Axes>"
      ]
     },
     "metadata": {},
     "output_type": "display_data"
    },
    {
     "data": {
      "image/png": "[encoded data removed]",
      "text/plain": [
       "<Figure size 1080x864 with 6 Axes>"
      ]
     },
     "metadata": {
      "needs_background": "light"
     },
     "output_type": "display_data"
    }
   ],
   "source": [
    "plt.figure()\n",
    "\n",
    "ax=data[target==0].hist(weights=weights[target==0],figsize=(15,12),color='b',alpha=0.5,density=True)\n",
    "ax=ax.flatten()[:data.shape[1]] # to avoid error if holes in the grid of plots (like if 7 or 8 features)\n",
    "data[target==1].hist(weights=weights[target==1],figsize=(15,12),color='r',alpha=0.5,density=True,ax=ax)\n",
    "\n",
    "plt.show()"
   ]
  },
  {
   "cell_type": "markdown",
   "metadata": {
    "id": "4kowHjX4rlIC"
   },
   "source": [
    "# Transform the features"
   ]
  },
  {
   "cell_type": "markdown",
   "metadata": {},
   "source": [
    "### Split the Data into Training and Test"
   ]
  },
  {
   "cell_type": "code",
   "execution_count": 19,
   "metadata": {
    "colab": {
     "base_uri": "https://localhost:8080/"
    },
    "id": "Y9j5hdrmrlID",
    "outputId": "75c0925f-74c9-4e24-d169-8a884b510f4c"
   },
   "outputs": [
    {
     "name": "stdout",
     "output_type": "stream",
     "text": [
      "Xtrain Shape:  (433017, 6)\n",
      "ytrain Shape:  (433017,)\n",
      "Training Weights:  (433017,) \n",
      "\n",
      "Xtest Shape:  (144340, 6)\n",
      "ytest Shape:  (144340,)\n",
      "Test Weights:  (144340,)\n"
     ]
    }
   ],
   "source": [
    "from sklearn.model_selection import train_test_split\n",
    "from sklearn.preprocessing import StandardScaler\n",
    "train_size = 0.75 # fraction of sample used for training\n",
    "\n",
    "X_train, X_test, y_train, y_test, weights_train, weights_test = \\\n",
    "    train_test_split(data, target, weights, train_size=train_size)\n",
    "\n",
    "y_train, y_test, weights_train, weights_test = \\\n",
    "    y_train.reset_index(drop=True),y_test.reset_index(drop=True), \\\n",
    "    weights_train.reset_index(drop=True), weights_test.reset_index(drop=True)\n",
    "\n",
    "print (\"Xtrain Shape: \",X_train.shape)\n",
    "print (\"ytrain Shape: \",y_train.shape)\n",
    "print (\"Training Weights: \",weights_train.shape,\"\\n\")\n",
    "print (\"Xtest Shape: \",X_test.shape)\n",
    "print (\"ytest Shape: \",y_test.shape)\n",
    "print (\"Test Weights: \",weights_test.shape)"
   ]
  },
  {
   "cell_type": "markdown",
   "metadata": {},
   "source": [
    "### Doing an extra data split. Test _and_ Validation"
   ]
  },
  {
   "cell_type": "code",
   "execution_count": 20,
   "metadata": {},
   "outputs": [],
   "source": [
    "X_test, X_val, y_test, y_val, weights_test, weights_val, = \\\n",
    "    train_test_split(X_test, y_test, weights_test, train_size=0.5, shuffle=False)"
   ]
  },
  {
   "cell_type": "markdown",
   "metadata": {},
   "source": [
    "- __Training Dataset:__ The sample of data used to fit the model.\n",
    "- __Validation Dataset:__ The sample used to provide an unbiased evaluation of a model fit on the training dataset while tuning  hyperparameters.\n",
    "- __Test Dataset:__ The sample of data used to provide an unbiased evaluation of a final model fit on the training dataset."
   ]
  },
  {
   "cell_type": "markdown",
   "metadata": {},
   "source": [
    "## Standardize the Data\n",
    "\n",
    "**Scale to Mean of 0 and Variance of 1.0:**   $\\ \\ \\ \\ (x-\\mu)/\\sigma$"
   ]
  },
  {
   "cell_type": "code",
   "execution_count": 21,
   "metadata": {},
   "outputs": [],
   "source": [
    "scaler = StandardScaler()\n",
    "X_train = scaler.fit_transform(X_train)\n",
    "X_val = scaler.transform(X_val)\n",
    "X_test = scaler.transform(X_test) #applies the transformation calculated the line above"
   ]
  },
  {
   "cell_type": "markdown",
   "metadata": {},
   "source": [
    "### Adjust the Test and Train Signal/Background Weights\n",
    "Train on equal amount of Signal and Background, Test on 'natural' ratio"
   ]
  },
  {
   "cell_type": "code",
   "execution_count": 22,
   "metadata": {},
   "outputs": [
    {
     "name": "stdout",
     "output_type": "stream",
     "text": [
      "class_weights_train: (119.66325440279999, 4.634016907200001)\n",
      "Train : total weight sig 119.66325440279995\n",
      "Train : total weight bkg 119.66325440279999\n",
      "Test : total weight sig 3.0960555168000004\n",
      "Test : total weight bkg 80.03703343919999\n"
     ]
    }
   ],
   "source": [
    "class_weights_train = (weights_train[y_train == 0].sum(), weights_train[y_train == 1].sum())\n",
    "print (\"class_weights_train:\",class_weights_train)\n",
    "for i in range(len(class_weights_train)):\n",
    "    weights_train[y_train == i] *= max(class_weights_train)/ class_weights_train[i] #equalize number of background and signal event\n",
    "    weights_test[y_test == i] *= 1/(1-train_size) #increase test weight to compensate for sampling\n",
    "    \n",
    "print (\"Train : total weight sig\", weights_train[y_train == 1].sum())\n",
    "print (\"Train : total weight bkg\", weights_train[y_train == 0].sum())\n",
    "print (\"Test : total weight sig\", weights_test[y_test == 1].sum())\n",
    "print (\"Test : total weight bkg\", weights_test[y_test == 0].sum())"
   ]
  },
  {
   "cell_type": "markdown",
   "metadata": {
    "id": "yxybCOi-rlIM"
   },
   "source": [
    "# Trying NN"
   ]
  },
  {
   "cell_type": "markdown",
   "metadata": {
    "id": "_TjIniZPWlVD"
   },
   "source": [
    "## NN"
   ]
  },
  {
   "cell_type": "code",
   "execution_count": 23,
   "metadata": {},
   "outputs": [],
   "source": [
    "from extra_functions import compare_train_test"
   ]
  },
  {
   "cell_type": "code",
   "execution_count": 24,
   "metadata": {},
   "outputs": [
    {
     "name": "stdout",
     "output_type": "stream",
     "text": [
      "Epoch 1/10\n",
      "13532/13532 [==============================] - 23s 2ms/step - loss: 0.4166 - val_loss: 0.3705\n",
      "Epoch 2/10\n",
      "13532/13532 [==============================] - 20s 1ms/step - loss: 0.3634 - val_loss: 0.3579\n",
      "Epoch 3/10\n",
      "13532/13532 [==============================] - 23s 2ms/step - loss: 0.3625 - val_loss: 0.3572\n",
      "Epoch 4/10\n",
      "13532/13532 [==============================] - 20s 1ms/step - loss: 0.3581 - val_loss: 0.3557\n",
      "Epoch 5/10\n",
      "13532/13532 [==============================] - 20s 2ms/step - loss: 0.3567 - val_loss: 0.3571\n",
      "Epoch 6/10\n",
      "13532/13532 [==============================] - 20s 1ms/step - loss: 0.3563 - val_loss: 0.3551\n",
      "Epoch 7/10\n",
      "13532/13532 [==============================] - 20s 1ms/step - loss: 0.3559 - val_loss: 0.3525\n",
      "Epoch 8/10\n",
      "13532/13532 [==============================] - 20s 1ms/step - loss: 0.3556 - val_loss: 0.3530\n",
      "Epoch 9/10\n",
      "13532/13532 [==============================] - 20s 1ms/step - loss: 0.3558 - val_loss: 0.3525\n",
      "Epoch 10/10\n",
      "13532/13532 [==============================] - 20s 1ms/step - loss: 0.3562 - val_loss: 0.3524\n",
      "Training time: 206.8670403957367\n"
     ]
    }
   ],
   "source": [
    "model = tf.keras.models.Sequential([\n",
    "    tf.keras.layers.Flatten(input_shape=(X_train.shape[1],)), # input layer\n",
    "    tf.keras.layers.Dense(128, activation='relu'), # 1st hiddden layer\n",
    "    tf.keras.layers.Dense(128, activation='relu'), # 2nd hiddden layer\n",
    "    tf.keras.layers.Dense(1,activation=\"sigmoid\") # output layer\n",
    "])\n",
    "\n",
    "model.compile(loss=\"binary_crossentropy\", optimizer=\"adam\")\n",
    "starting_time = time.time( )\n",
    "the_fit = model.fit(X_train, y_train.values, epochs=10,\n",
    "                    validation_data=(X_val, y_val))\n",
    "\n",
    "training_time = time.time( ) - starting_time\n",
    "print(\"Training time:\",training_time)"
   ]
  },
  {
   "cell_type": "code",
   "execution_count": 25,
   "metadata": {},
   "outputs": [
    {
     "data": {
      "text/plain": [
       "<matplotlib.legend.Legend at 0x155329a20f10>"
      ]
     },
     "execution_count": 25,
     "metadata": {},
     "output_type": "execute_result"
    },
    {
     "data": {
      "image/png": "[encoded data removed]",
      "text/plain": [
       "<Figure size 432x288 with 1 Axes>"
      ]
     },
     "metadata": {
      "needs_background": "light"
     },
     "output_type": "display_data"
    }
   ],
   "source": [
    "plt.plot(the_fit.history['loss'],label=\"training loss\")\n",
    "plt.plot(the_fit.history['val_loss'],label=\"validation loss\")\n",
    "plt.legend(fontsize=15)"
   ]
  },
  {
   "cell_type": "markdown",
   "metadata": {},
   "source": [
    "### Use the model to make predicions!\n",
    "Evaluate the model based on predictions made with X_test $\\rightarrow$ y_test"
   ]
  },
  {
   "cell_type": "code",
   "execution_count": 26,
   "metadata": {},
   "outputs": [],
   "source": [
    "y_pred_test = model.predict(X_test).ravel()\n",
    "y_pred_train = model.predict(X_train).ravel()"
   ]
  },
  {
   "cell_type": "code",
   "execution_count": 27,
   "metadata": {},
   "outputs": [],
   "source": [
    "### ROC curves and Area Under the Curve (AUC)"
   ]
  },
  {
   "cell_type": "code",
   "execution_count": 28,
   "metadata": {
    "id": "SfB3mkkxW4CP"
   },
   "outputs": [],
   "source": [
    "from sklearn.metrics import roc_auc_score # for binary classification if x > 0.5 -> 1 else -> 0\n",
    "from sklearn.utils import class_weight # to set class_weight=\"balanced\""
   ]
  },
  {
   "cell_type": "code",
   "execution_count": 29,
   "metadata": {},
   "outputs": [
    {
     "data": {
      "text/plain": [
       "Text(0.5, 1.0, 'Receiver Operating Characteristic')"
      ]
     },
     "execution_count": 29,
     "metadata": {},
     "output_type": "execute_result"
    },
    {
     "data": {
      "image/png": "[encoded data removed]",
      "text/plain": [
       "<Figure size 432x288 with 1 Axes>"
      ]
     },
     "metadata": {
      "needs_background": "light"
     },
     "output_type": "display_data"
    }
   ],
   "source": [
    "from sklearn.metrics import roc_curve\n",
    "fpr,tpr,_ = roc_curve(y_true=y_test, y_score=y_pred_test,sample_weight=weights_test)\n",
    "plt.plot(fpr, tpr, color='blue',lw=2)\n",
    "plt.xlabel('False Positive Rate')\n",
    "plt.ylabel('True Positive Rate')\n",
    "plt.title('Receiver Operating Characteristic')"
   ]
  },
  {
   "cell_type": "code",
   "execution_count": 43,
   "metadata": {},
   "outputs": [
    {
     "name": "stdout",
     "output_type": "stream",
     "text": [
      "auc test: 0.8753103116414407\n",
      "auc train: 0.8761894897651766\n"
     ]
    }
   ],
   "source": [
    "auc_test = roc_auc_score(y_true=y_test, y_score=y_pred_test,sample_weight=weights_test)\n",
    "auc_train = roc_auc_score(y_true=y_train.values, y_score=y_pred_train,sample_weight=weights_train)\n",
    "print(\"auc test:\",auc_test)\n",
    "print (\"auc train:\",auc_train)"
   ]
  },
  {
   "cell_type": "markdown",
   "metadata": {
    "id": "AIsMSGl-Kwql",
    "tags": []
   },
   "source": [
    "## Significance Function"
   ]
  },
  {
   "cell_type": "markdown",
   "metadata": {},
   "source": [
    "$\\mathrm{med}[Z_0|1] = \\sqrt{q_{0,A}} = \\sqrt{2+((s+b)\\ln(1+s/b)-s)}$\n",
    "\n",
    "**asimov significance [arXiv:1007.1727](https://arxiv.org/pdf/1007.1727.pdf) [Eq. 97]**\n",
    "\n",
    "Likelihood-based statistical test for significance. Need to esimate your sensitivity to MC. Running a toy MC thousands of times, should converge to 'truth'. Asimov is representative of number of sigmas in the gaus case.\n",
    "\n",
    "Essentially: For an observed number of signal events $s$, what is the significance $Z_0$ with which we would reject the $s = 0$ hypothesis"
   ]
  },
  {
   "cell_type": "code",
   "execution_count": 31,
   "metadata": {
    "id": "qubY3CMNKwql"
   },
   "outputs": [],
   "source": [
    "from math import sqrt\n",
    "from math import log\n",
    "def amsasimov(s,b):\n",
    "        if b<=0 or s<=0:\n",
    "            return 0\n",
    "        try:\n",
    "            return sqrt(2*((s+b)*log(1+float(s)/b)-s))\n",
    "        except ValueError:\n",
    "            print(1+float(s)/b)\n",
    "            print (2*((s+b)*log(1+float(s)/b)-s))\n",
    "        #return s/sqrt(s+b)"
   ]
  },
  {
   "cell_type": "code",
   "execution_count": 32,
   "metadata": {
    "id": "iqiOrCfyVYD4"
   },
   "outputs": [],
   "source": [
    "#from extra_functions import amsasimov"
   ]
  },
  {
   "cell_type": "code",
   "execution_count": 33,
   "metadata": {},
   "outputs": [
    {
     "name": "stdout",
     "output_type": "stream",
     "text": [
      "Z: 0.5908024538718692\n"
     ]
    }
   ],
   "source": [
    "int_pred_test_sig = [weights_test[(y_test ==1) & (y_pred_test > th_cut)].sum() for th_cut in np.linspace(0,1,num=50)]\n",
    "int_pred_test_bkg = [weights_test[(y_test ==0) & (y_pred_test > th_cut)].sum() for th_cut in np.linspace(0,1,num=50)]\n",
    "vamsasimov = [amsasimov(sumsig,sumbkg) for (sumsig,sumbkg) in zip(int_pred_test_sig,int_pred_test_bkg)]\n",
    "Z = max(vamsasimov)\n",
    "print(\"Z:\",Z)"
   ]
  },
  {
   "cell_type": "code",
   "execution_count": 34,
   "metadata": {},
   "outputs": [
    {
     "data": {
      "image/png": "[encoded data removed]",
      "text/plain": [
       "<Figure size 432x288 with 1 Axes>"
      ]
     },
     "metadata": {
      "needs_background": "light"
     },
     "output_type": "display_data"
    }
   ],
   "source": [
    "plt.plot(np.linspace(0,1,num=50),vamsasimov, label='Significance (Z = {})'.format(np.round(Z,decimals=2)))\n",
    "\n",
    "\n",
    "plt.title(\"NN Significance\")\n",
    "plt.xlabel(\"Threshold\")\n",
    "plt.ylabel(\"Significance\")\n",
    "plt.legend()\n",
    "plt.savefig(\"Significance_xgb.pdf\")\n",
    "plt.show()"
   ]
  },
  {
   "cell_type": "markdown",
   "metadata": {},
   "source": [
    "### Plotting NN Score for Signal and Background"
   ]
  },
  {
   "cell_type": "code",
   "execution_count": 35,
   "metadata": {},
   "outputs": [
    {
     "data": {
      "image/png": "[encoded data removed]",
      "text/plain": [
       "<Figure size 432x288 with 1 Axes>"
      ]
     },
     "metadata": {
      "needs_background": "light"
     },
     "output_type": "display_data"
    }
   ],
   "source": [
    "compare_train_test(y_pred_train, y_train, y_pred_test, y_test, \n",
    "                   xlabel=\"NN Score\", title=\"NN\", \n",
    "                   weights_train=weights_train.values, weights_test=weights_test.values)"
   ]
  },
  {
   "cell_type": "markdown",
   "metadata": {},
   "source": [
    "## What does overtraining look like?\n",
    "\n",
    "Recipe:\n",
    "1. Add More layers\n",
    "2. Add more nodes per layer\n",
    "3. Train on less data"
   ]
  },
  {
   "cell_type": "code",
   "execution_count": 36,
   "metadata": {},
   "outputs": [
    {
     "name": "stdout",
     "output_type": "stream",
     "text": [
      "Using 433 / 433017 events\n"
     ]
    }
   ],
   "source": [
    "#Crazy Example\n",
    "N = len(X_train)\n",
    "n = int(N/1000)\n",
    "print(\"Using\",n,\"/\",N, \"events\")\n",
    "\n",
    "X_small = X_train[:n]\n",
    "y_small = y_train[:n]\n",
    "weights_small = weights_train[:n]"
   ]
  },
  {
   "cell_type": "code",
   "execution_count": 37,
   "metadata": {},
   "outputs": [
    {
     "name": "stdout",
     "output_type": "stream",
     "text": [
      "Epoch 1/25\n",
      "14/14 [==============================] - 3s 205ms/step - loss: 0.6342 - val_loss: 0.5434\n",
      "Epoch 2/25\n",
      "14/14 [==============================] - 2s 187ms/step - loss: 0.5434 - val_loss: 0.5419\n",
      "Epoch 3/25\n",
      "14/14 [==============================] - 2s 179ms/step - loss: 0.5396 - val_loss: 0.5267\n",
      "Epoch 4/25\n",
      "14/14 [==============================] - 2s 185ms/step - loss: 0.4891 - val_loss: 0.5417\n",
      "Epoch 5/25\n",
      "14/14 [==============================] - 2s 181ms/step - loss: 0.5075 - val_loss: 0.5257\n",
      "Epoch 6/25\n",
      "14/14 [==============================] - 2s 183ms/step - loss: 0.4893 - val_loss: 0.5313\n",
      "Epoch 7/25\n",
      "14/14 [==============================] - 2s 180ms/step - loss: 0.4590 - val_loss: 0.5182\n",
      "Epoch 8/25\n",
      "14/14 [==============================] - 2s 191ms/step - loss: 0.4697 - val_loss: 0.5209\n",
      "Epoch 9/25\n",
      "14/14 [==============================] - 2s 188ms/step - loss: 0.4940 - val_loss: 0.5240\n",
      "Epoch 10/25\n",
      "14/14 [==============================] - 2s 184ms/step - loss: 0.4508 - val_loss: 0.5324\n",
      "Epoch 11/25\n",
      "14/14 [==============================] - 3s 194ms/step - loss: 0.4030 - val_loss: 0.5232\n",
      "Epoch 12/25\n",
      "14/14 [==============================] - 2s 189ms/step - loss: 0.3774 - val_loss: 0.5280\n",
      "Epoch 13/25\n",
      "14/14 [==============================] - 2s 181ms/step - loss: 0.3503 - val_loss: 0.5409\n",
      "Epoch 14/25\n",
      "14/14 [==============================] - 2s 190ms/step - loss: 0.3606 - val_loss: 0.5643\n",
      "Epoch 15/25\n",
      "14/14 [==============================] - 2s 187ms/step - loss: 0.3128 - val_loss: 0.5499\n",
      "Epoch 16/25\n",
      "14/14 [==============================] - 2s 184ms/step - loss: 0.3120 - val_loss: 0.5720\n",
      "Epoch 17/25\n",
      "14/14 [==============================] - 2s 184ms/step - loss: 0.3025 - val_loss: 0.5978\n",
      "Epoch 18/25\n",
      "14/14 [==============================] - 2s 189ms/step - loss: 0.2532 - val_loss: 0.6822\n",
      "Epoch 19/25\n",
      "14/14 [==============================] - 2s 179ms/step - loss: 0.2490 - val_loss: 0.5988\n",
      "Epoch 20/25\n",
      "14/14 [==============================] - 2s 185ms/step - loss: 0.2778 - val_loss: 0.6942\n",
      "Epoch 21/25\n",
      "14/14 [==============================] - 2s 184ms/step - loss: 0.2214 - val_loss: 0.6799\n",
      "Epoch 22/25\n",
      "14/14 [==============================] - 2s 184ms/step - loss: 0.2187 - val_loss: 0.6915\n",
      "Epoch 23/25\n",
      "14/14 [==============================] - 2s 188ms/step - loss: 0.2324 - val_loss: 0.6717\n",
      "Epoch 24/25\n",
      "14/14 [==============================] - 2s 184ms/step - loss: 0.2399 - val_loss: 0.7000\n",
      "Epoch 25/25\n",
      "14/14 [==============================] - 2s 188ms/step - loss: 0.1919 - val_loss: 0.7320\n",
      "Training time: 61.279576539993286\n"
     ]
    }
   ],
   "source": [
    "ot_model = tf.keras.models.Sequential([\n",
    "    tf.keras.layers.Flatten(input_shape=(X_small.shape[1],)), # input layer\n",
    "    tf.keras.layers.Dense(256, activation='relu'), # 1st hiddden layer\n",
    "    tf.keras.layers.Dense(256, activation='relu'),\n",
    "    tf.keras.layers.Dense(256, activation='relu'),\n",
    "    tf.keras.layers.Dense(1,activation=\"sigmoid\")\n",
    "])\n",
    "ot_model.compile(loss=\"binary_crossentropy\", optimizer=\"adam\")\n",
    "starting_time = time.time( )\n",
    "\n",
    "the_overfit = ot_model.fit(X_small, y_small.values, epochs=25 ,validation_data=(X_val, y_val))#, class_weight=class_weights)\n",
    "training_time = time.time( ) - starting_time\n",
    "print(\"Training time:\",training_time)"
   ]
  },
  {
   "cell_type": "code",
   "execution_count": 38,
   "metadata": {},
   "outputs": [],
   "source": [
    "ot_y_pred_test = ot_model.predict(X_test).ravel()\n",
    "ot_y_pred_train = ot_model.predict(X_small).ravel()"
   ]
  },
  {
   "cell_type": "code",
   "execution_count": 39,
   "metadata": {},
   "outputs": [
    {
     "data": {
      "text/plain": [
       "<matplotlib.legend.Legend at 0x1552c76a8280>"
      ]
     },
     "execution_count": 39,
     "metadata": {},
     "output_type": "execute_result"
    },
    {
     "data": {
      "image/png": "[encoded data removed]",
      "text/plain": [
       "<Figure size 1080x360 with 2 Axes>"
      ]
     },
     "metadata": {
      "needs_background": "light"
     },
     "output_type": "display_data"
    }
   ],
   "source": [
    "fig, axes = plt.subplots(1, 2, sharex=False, figsize=(15,5))\n",
    "\n",
    "axes[0].plot(the_overfit.history['loss'],label=\"training loss\")\n",
    "axes[0].plot(the_overfit.history['val_loss'],label=\"validation loss\")\n",
    "axes[0].legend(fontsize=15)\n",
    "\n",
    "axes[1].set_title(\"Overtrained NN\")\n",
    "compare_train_test(ot_y_pred_train, y_small, ot_y_pred_test, y_test, \n",
    "                   xlabel=\"NN Score\", title=\"Overtrained NN\", \n",
    "                   weights_train=weights_small.values, weights_test=weights_test.values)\n",
    "axes[1].legend(loc=\"upper center\",fontsize = 15)"
   ]
  },
  {
   "cell_type": "markdown",
   "metadata": {
    "id": "1JKKJbnWX7Ql"
   },
   "source": [
    "## Exercises"
   ]
  },
  {
   "cell_type": "markdown",
   "metadata": {
    "id": "IQJuC2-1UkqP"
   },
   "source": [
    "1.   Improve NN AUC and significance by increasing the number of neurons, and layers, epochs, or by any other techniques (google) \n",
    "        - (beware of training time)\n",
    "        - Explore!\n",
    "        - Loss: [BCE, MSE,]\n",
    "        - Activations: [relu, leakyrelu, selu, tanh]\n",
    "2.   Draw NN score for signal and background, training and testing (see overtraining example, or BDT Notebook)\n",
    "        - feel free to look into *extra_functions.py*\n",
    "3.   Add Features more features and engineer aditional Features        \n",
    "___\n",
    "4.   Draw plot looking at significance for NN ( see BDT notebook), for the same features as BDT\n",
    "5.   Enable feature permutation importance (see BDT notebook)\n",
    "6.   Calculate the permutation importance with respect to significance and accuracy. See how Asimov significance changes as features shuffle.\n",
    "\n",
    "\n",
    "\n",
    "\n"
   ]
  },
  {
   "cell_type": "code",
   "execution_count": 40,
   "metadata": {},
   "outputs": [
    {
     "name": "stderr",
     "output_type": "stream",
     "text": [
      "/global/homes/f/fernando/.conda/envs/ml_tutorial/lib/python3.9/site-packages/xgboost/compat.py:36: FutureWarning: pandas.Int64Index is deprecated and will be removed from pandas in a future version. Use pandas.Index with the appropriate dtype instead.\n",
      "  from pandas import MultiIndex, Int64Index\n",
      "/global/homes/f/fernando/.conda/envs/ml_tutorial/lib/python3.9/site-packages/xgboost/core.py:499: FutureWarning: Pass `objective` as keyword args.  Passing these as positional arguments will be considered as error in future releases.\n",
      "  warnings.warn(\n"
     ]
    }
   ],
   "source": [
    "#Some help for BDT comparisons:\n",
    "y_pred_xgb = np.load(\"y_pred_xgb.npy\")\n",
    "y_pred_train_xgb = np.load(\"./y_pred_train_xgb.npy\")\n",
    "weights_train_xgb = np.load(\"./weights_train_xgb.npy\")\n",
    "y_test_xgb = np.load(\"./y_test_xgb.npy\")\n",
    "weights_test_xgb = np.load(\"./weights_test_xgb.npy\")\n",
    "\n",
    "from xgboost import XGBClassifier\n",
    "import xgboost\n",
    "xgb = xgboost.XGBClassifier({'nthread': 4})  # init model\n",
    "xgb.load_model('xgb.model')  # load data\n",
    "\n",
    "#The model and predictions from the BDT notebook are now in memory!\n",
    "#plt.bar(data.columns.values, xgb.feature_importances_)"
   ]
  },
  {
   "cell_type": "markdown",
   "metadata": {},
   "source": [
    "### Extra: Unweighted Score Plot"
   ]
  },
  {
   "cell_type": "code",
   "execution_count": 41,
   "metadata": {},
   "outputs": [
    {
     "data": {
      "image/png": "[encoded data removed]",
      "text/plain": [
       "<Figure size 432x288 with 1 Axes>"
      ]
     },
     "metadata": {
      "needs_background": "light"
     },
     "output_type": "display_data"
    }
   ],
   "source": [
    "compare_train_test(y_pred_train, y_train, y_pred_test, y_test, \n",
    "                   xlabel=\"NN Score\", title=\"NN\", \n",
    "                   weights_train=weights_train.values,\n",
    "                   weights_test=weights_test.values,density=False)"
   ]
  },
  {
   "cell_type": "code",
   "execution_count": null,
   "metadata": {},
   "outputs": [],
   "source": []
  }
 ],
 "metadata": {
  "accelerator": "GPU",
  "colab": {
   "collapsed_sections": [],
   "name": "HEPML_HandsOn_NN_veryold.ipynb",
   "provenance": []
  },
  "kernelspec": {
   "display_name": "ml_tutorial",
   "language": "python",
   "name": "ml_tutorial"
  },
  "language_info": {
   "codemirror_mode": {
    "name": "ipython",
    "version": 3
   },
   "file_extension": ".py",
   "mimetype": "text/x-python",
   "name": "python",
   "nbconvert_exporter": "python",
   "pygments_lexer": "ipython3",
   "version": "3.9.12"
  }
 },
 "nbformat": 4,
 "nbformat_minor": 4
}
